{
 "cells": [
  {
   "cell_type": "code",
   "execution_count": 1,
   "metadata": {
    "collapsed": true
   },
   "outputs": [],
   "source": [
    "import math\n",
    "import numpy as np"
   ]
  },
  {
   "cell_type": "code",
   "execution_count": 10,
   "metadata": {
    "collapsed": false
   },
   "outputs": [
    {
     "name": "stdout",
     "output_type": "stream",
     "text": [
      "Old volume  1.000000 cm3\n",
      "Old gensity 1.000000 g/cm3\n",
      "New volume  1.000004 cm3\n",
      "New density 2.329991 g/cm3\n"
     ]
    }
   ],
   "source": [
    "thermal_exp_gr = 1.3e-6    # 1/K\n",
    "\n",
    "h=1.0\n",
    "\n",
    "den_gr_base = 2.33\n",
    "V_gr = h**3\n",
    "mass_gr = den_gr_base * V_gr\n",
    "\n",
    "h_new = (1 + thermal_exp_gr) * h\n",
    "\n",
    "gr_den = mass_gr / (h_new**3)\n",
    "\n",
    "print('Old volume  %f cm3' %h)\n",
    "print('Old gensity %f g/cm3' %(h**3))\n",
    "print('New volume  %f cm3' %(h_new**3))\n",
    "print('New density %f g/cm3' %gr_den)\n"
   ]
  }
 ],
 "metadata": {
  "anaconda-cloud": {},
  "kernelspec": {
   "display_name": "Python [default]",
   "language": "python",
   "name": "python3"
  },
  "language_info": {
   "codemirror_mode": {
    "name": "ipython",
    "version": 3
   },
   "file_extension": ".py",
   "mimetype": "text/x-python",
   "name": "python",
   "nbconvert_exporter": "python",
   "pygments_lexer": "ipython3",
   "version": "3.5.2"
  }
 },
 "nbformat": 4,
 "nbformat_minor": 1
}
