{
 "cells": [
  {
   "cell_type": "code",
   "execution_count": 23,
   "metadata": {
    "collapsed": false
   },
   "outputs": [],
   "source": [
    "%matplotlib notebook \n",
    "# Import modules\n",
    "import math\n",
    "import numpy as np\n",
    "import matplotlib.pyplot\n",
    "from pyne import serpent\n",
    "from pyne import nucname\n",
    "\n",
    "#res = serpent.parse_res('../first_case/tc/init/900_1000_tcs_sd_tmsr_res.m', write_py=False)\n",
    "#res = serpent.parse_res('../first_case/tc/equil/900_1000_tcs_sd_tmsr_res.m', write_py=False)\n",
    "\n",
    "#res = serpent.parse_res('../second_case/tc/init/900_1000_tcs_sd_tmsr_res.m', write_py=False)\n",
    "#res = serpent.parse_res('../second_case/tc/equil/900_1000_tcs_sd_tmsr_res.m', write_py=False)\n",
    "\n",
    "#res = serpent.parse_res('../third_case/tc/init/900_1000_tcs_sd_tmsr_res.m', write_py=False)\n",
    "res = serpent.parse_res('../third_case/tc/equil/900_1000_tcs_sd_tmsr_res.m', write_py=False)"
   ]
  },
  {
   "cell_type": "code",
   "execution_count": 24,
   "metadata": {
    "collapsed": false
   },
   "outputs": [
    {
     "name": "stdout",
     "output_type": "stream",
     "text": [
      "[ 1.00751  1.00587  1.00551  1.00378  1.00635  1.0027 ]\n",
      "[ 8.   8.1  8.   8.1  8.   8.1]\n",
      "[900, 1000]\n",
      "0 100 0 1.00587 -1.61827612584 0.111456718902\n",
      "1 100 0 1.00551 -1.97421404002 0.112340919796\n",
      "2 100 0 1.00378 -3.68825490073 0.111678851771\n",
      "3 100 0 1.00635 -1.14408837526 0.112578986474\n",
      "4 100 0 1.0027 -4.76129067749 0.111585340975\n",
      "[-1.61827613 -1.97421404 -3.6882549  -1.14408838 -4.76129068]\n",
      "\n",
      "\n",
      "From 900K to 1000K\n",
      "FTC (density)   -1.61827612584 +/- 0.111456718902\n",
      "FTC (Doppler)  -1.97421404002 +/- 0.112340919796\n",
      "FTC (Total)    -3.68825490073 +/- 0.111678851771\n",
      "\n",
      "MTC (Doppler)  -1.14408837526 +/- 0.112578986474\n",
      "\n",
      "ITC (Total)    -4.76129067749 +/- 0.111585340975\n"
     ]
    }
   ],
   "source": [
    "keff = res['IMP_KEFF'][:,0]         # K-eff parsing from dictionary\n",
    "keff_err = res['IMP_KEFF'][:,1]         # K-eff standart deviation\n",
    "\n",
    "#T = [900, 600, 1200, 600, 1200, 600, 1200]\n",
    "T = [900, 1000]\n",
    "#fuel_den = 6.105-0.001272*T\n",
    "# dT = [80, 80, 80, 20, 20, 20]\n",
    "print(keff)\n",
    "print(keff_err*1e5)\n",
    "print(T)\n",
    "\n",
    "tc = np.zeros(len(keff)-1)\n",
    "tc_err = np.zeros(len(keff)-1)\n",
    "\n",
    "for i in range(len(keff)-1):\n",
    "    #if i in [0,1,2]:\n",
    "    if 0 <= i <= 8:\n",
    "        dT = T[1] - T[0]\n",
    "        base_idx = 0\n",
    "    elif 8 < i < len(keff)-1:\n",
    "        dT = T[2] - T[1]\n",
    "        base_idx = 8\n",
    "    tc[i] = 1e+5*(keff[i+1] - keff[base_idx])/(keff[i+1]*keff[base_idx]*dT)\n",
    "    tc_err[i] = 1e+5*math.sqrt(keff_err[i]**2/keff[i]**4 + keff_err[base_idx]**2/keff[base_idx]**4) * \\\n",
    "            abs(1/dT)\n",
    "    print (i, dT, base_idx, keff[i+1], tc[i], tc_err[i])\n",
    " \n",
    "print(tc)\n",
    "\n",
    "\n",
    "# 900K to 980K\n",
    "print('\\n\\nFrom 900K to 1000K')\n",
    "t=0\n",
    "print ('FTC (density)  ',  tc[t+0], '+/-', tc_err[t+0])\n",
    "print ('FTC (Doppler) ',   tc[t+1], '+/-', tc_err[t+1])\n",
    "print ('FTC (Total)   ',   tc[t+2], '+/-', tc_err[t+2])\n",
    "#print ('\\nMTC (density) ', tc[t+3], '+/-', tc_err[t+3])\n",
    "print ('\\nMTC (Doppler) ',   tc[t+3], '+/-', tc_err[t+3])\n",
    "#print ('MTC (Total)   ',   tc[t+5], '+/-', tc_err[t+5])\n",
    "print ('\\nITC (Total)   ', tc[t+4], '+/-', tc_err[t+4])\n",
    "\n",
    "#print ('FTC (Total)   ', tc[t+0], '+/-', tc_err[t+0])\n",
    "#print ('MTC (Total)   ', tc[t+1], '+/-', tc_err[t+1])\n",
    "#print ('ITC (Total)   ', tc[t+2], '+/-', tc_err[t+2])"
   ]
  }
 ],
 "metadata": {
  "anaconda-cloud": {},
  "kernelspec": {
   "display_name": "Python [default]",
   "language": "python",
   "name": "python3"
  },
  "language_info": {
   "codemirror_mode": {
    "name": "ipython",
    "version": 3
   },
   "file_extension": ".py",
   "mimetype": "text/x-python",
   "name": "python",
   "nbconvert_exporter": "python",
   "pygments_lexer": "ipython3",
   "version": "3.5.2"
  }
 },
 "nbformat": 4,
 "nbformat_minor": 1
}
